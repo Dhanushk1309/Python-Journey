{
 "cells": [
  {
   "cell_type": "code",
   "execution_count": 43,
   "id": "54bb49cf-6dbc-408f-b6f6-7cd2a9e9f379",
   "metadata": {},
   "outputs": [
    {
     "name": "stdout",
     "output_type": "stream",
     "text": [
      "1.0\n"
     ]
    }
   ],
   "source": [
    "a=5\n",
    "b=5\n",
    "try:\n",
    "    print(a/b)\n",
    "except Exception as e:\n",
    "    print(\"No, It's not possible\")\n",
    "    "
   ]
  },
  {
   "cell_type": "code",
   "execution_count": 47,
   "id": "24b85c66-57ec-4890-badf-1eaa3541e7c3",
   "metadata": {},
   "outputs": [
    {
     "name": "stdout",
     "output_type": "stream",
     "text": [
      "dont / by 0\n"
     ]
    }
   ],
   "source": [
    "try:\n",
    "    a=1\n",
    "    b=0\n",
    "    print(a/c)\n",
    "except NameError as e:\n",
    "    print(\"dont / by 0\")"
   ]
  },
  {
   "cell_type": "code",
   "execution_count": 15,
   "id": "edb447e1-ccff-4ecd-bb54-6cc818be16c9",
   "metadata": {},
   "outputs": [
    {
     "name": "stdout",
     "output_type": "stream",
     "text": [
      "name error\n"
     ]
    }
   ],
   "source": [
    "try:\n",
    "    a=10\n",
    "    b=0\n",
    "    print(a/c)\n",
    "except NameError:\n",
    "    print(\"name error\")\n",
    "except ZeroDivisionError:\n",
    "    print(\"pls enter valid input \")"
   ]
  },
  {
   "cell_type": "code",
   "execution_count": 19,
   "id": "b8fc67c1-4103-49e2-8dad-21159c49f7d3",
   "metadata": {},
   "outputs": [
    {
     "ename": "NameError",
     "evalue": "name 'c' is not defined",
     "output_type": "error",
     "traceback": [
      "\u001b[1;31m---------------------------------------------------------------------------\u001b[0m",
      "\u001b[1;31mNameError\u001b[0m                                 Traceback (most recent call last)",
      "Cell \u001b[1;32mIn[19], line 3\u001b[0m\n\u001b[0;32m      1\u001b[0m a\u001b[38;5;241m=\u001b[39m\u001b[38;5;241m3\u001b[39m\n\u001b[0;32m      2\u001b[0m b\u001b[38;5;241m=\u001b[39m\u001b[38;5;241m0\u001b[39m\n\u001b[1;32m----> 3\u001b[0m \u001b[38;5;28mprint\u001b[39m(a\u001b[38;5;241m/\u001b[39mc)\n",
      "\u001b[1;31mNameError\u001b[0m: name 'c' is not defined"
     ]
    }
   ],
   "source": [
    "a=3\n",
    "b=0\n",
    "print(a/c)"
   ]
  },
  {
   "cell_type": "code",
   "execution_count": 35,
   "id": "2c2fda98-2881-45f1-abe9-3ae31494fa02",
   "metadata": {},
   "outputs": [
    {
     "name": "stdout",
     "output_type": "stream",
     "text": [
      "ZeroDivision Error\n"
     ]
    }
   ],
   "source": [
    "a=3\n",
    "b=0\n",
    "try:\n",
    "    print(a/c)\n",
    "# except Exception:\n",
    "#     print(\"nameError\")\n",
    "except Exception:\n",
    "    print(\"ZeroDivision Error\")"
   ]
  },
  {
   "cell_type": "code",
   "execution_count": 41,
   "id": "36d6a35a-3172-4494-a392-564bedf57278",
   "metadata": {},
   "outputs": [
    {
     "name": "stdout",
     "output_type": "stream",
     "text": [
      "This is ZeroDivisionError\n"
     ]
    }
   ],
   "source": [
    "a=8\n",
    "b=0\n",
    "try:\n",
    "    print(a/b)\n",
    "except NameError:\n",
    "    print(\"This is NameError\")\n",
    "except ZeroDivisionError:\n",
    "    print(\"This is ZeroDivisionError\")"
   ]
  },
  {
   "cell_type": "code",
   "execution_count": 53,
   "id": "319a0d76-8ebe-4cc6-a53e-1a0d1bc35df4",
   "metadata": {},
   "outputs": [
    {
     "name": "stdout",
     "output_type": "stream",
     "text": [
      "name 'c' is not defined\n"
     ]
    }
   ],
   "source": [
    "a=9\n",
    "b=0\n",
    "try:\n",
    "    print(a/c)\n",
    "except NameError as e:\n",
    "    print(e)"
   ]
  },
  {
   "cell_type": "code",
   "execution_count": 60,
   "id": "d32cc402-0c76-4337-96c8-6343a8788b4b",
   "metadata": {},
   "outputs": [
    {
     "name": "stdin",
     "output_type": "stream",
     "text": [
      "Enter a number:  4\n"
     ]
    },
    {
     "name": "stdout",
     "output_type": "stream",
     "text": [
      "Result: 2.5\n",
      "Execution completed (Success or Failure)\n"
     ]
    }
   ],
   "source": [
    "\n",
    "try:\n",
    "    num = int(input(\"Enter a number: \"))\n",
    "    result = 10 / num\n",
    "    print(\"Result:\", result)\n",
    "except ValueError:\n",
    "    print(\"Error: Invalid input\")\n",
    "except ZeroDivisionError:\n",
    "    print(\"Error: Cannot divide by zero\")\n",
    "finally:\n",
    "    print(\"Execution completed (Success or Failure)\")  # Runs no matter what"
   ]
  },
  {
   "cell_type": "code",
   "execution_count": 82,
   "id": "c174b93d-b004-4f99-baac-51811f7c467d",
   "metadata": {},
   "outputs": [
    {
     "name": "stdout",
     "output_type": "stream",
     "text": [
      "4.0\n"
     ]
    },
    {
     "name": "stdin",
     "output_type": "stream",
     "text": [
      "Enter c value: 2\n"
     ]
    },
    {
     "name": "stdout",
     "output_type": "stream",
     "text": [
      "variable name is not defined\n",
      "Execution completed\n"
     ]
    }
   ],
   "source": [
    "a=8\n",
    "b=2\n",
    "try:\n",
    "    print(a/b)\n",
    "    c=int(input(\"Enter c value:\"))\n",
    "    print(a/d)\n",
    "except  NameError :\n",
    "    print(\"variable name is not defined\")\n",
    "except  ValueError:\n",
    "    print(\"value is not acccept\")\n",
    "except  ZeroDivisionError:\n",
    "    print(\"Zero cannot be divided by anything\")\n",
    "finally:\n",
    "    print(\"Execution completed\")\n",
    "\n",
    "    "
   ]
  },
  {
   "cell_type": "code",
   "execution_count": null,
   "id": "acb35f9e-cfe9-4475-b506-80e03b42ffcb",
   "metadata": {},
   "outputs": [],
   "source": []
  }
 ],
 "metadata": {
  "kernelspec": {
   "display_name": "Python [conda env:base] *",
   "language": "python",
   "name": "conda-base-py"
  },
  "language_info": {
   "codemirror_mode": {
    "name": "ipython",
    "version": 3
   },
   "file_extension": ".py",
   "mimetype": "text/x-python",
   "name": "python",
   "nbconvert_exporter": "python",
   "pygments_lexer": "ipython3",
   "version": "3.12.7"
  }
 },
 "nbformat": 4,
 "nbformat_minor": 5
}
