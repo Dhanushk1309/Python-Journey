{
 "cells": [
  {
   "cell_type": "code",
   "execution_count": 9,
   "id": "ade5bad4-794d-4409-a241-4937e9ab34c3",
   "metadata": {},
   "outputs": [
    {
     "name": "stdin",
     "output_type": "stream",
     "text": [
      "Enter the First number: 1\n",
      "Enter the Second number: 0\n"
     ]
    },
    {
     "name": "stdout",
     "output_type": "stream",
     "text": [
      "Our Operations:\n",
      "+ - * / %\n"
     ]
    },
    {
     "name": "stdin",
     "output_type": "stream",
     "text": [
      "Select Operation: /\n"
     ]
    },
    {
     "name": "stdout",
     "output_type": "stream",
     "text": [
      "division by zero\n"
     ]
    },
    {
     "ename": "UnboundLocalError",
     "evalue": "cannot access local variable 'n2' where it is not associated with a value",
     "output_type": "error",
     "traceback": [
      "\u001b[1;31m---------------------------------------------------------------------------\u001b[0m",
      "\u001b[1;31mUnboundLocalError\u001b[0m                         Traceback (most recent call last)",
      "Cell \u001b[1;32mIn[9], line 31\u001b[0m\n\u001b[0;32m     29\u001b[0m     \u001b[38;5;28mprint\u001b[39m(n1,\u001b[38;5;124m\"\u001b[39m\u001b[38;5;124m*\u001b[39m\u001b[38;5;124m\"\u001b[39m,n2,\u001b[38;5;124m\"\u001b[39m\u001b[38;5;124m=\u001b[39m\u001b[38;5;124m\"\u001b[39m,mul(n1,n2))\n\u001b[0;32m     30\u001b[0m \u001b[38;5;28;01melif\u001b[39;00m s\u001b[38;5;241m==\u001b[39m\u001b[38;5;124m\"\u001b[39m\u001b[38;5;124m/\u001b[39m\u001b[38;5;124m\"\u001b[39m:\n\u001b[1;32m---> 31\u001b[0m     \u001b[38;5;28mprint\u001b[39m(n1,\u001b[38;5;124m\"\u001b[39m\u001b[38;5;124m/\u001b[39m\u001b[38;5;124m\"\u001b[39m,n2,\u001b[38;5;124m\"\u001b[39m\u001b[38;5;124m=\u001b[39m\u001b[38;5;124m\"\u001b[39m,div(n1,n2))\n\u001b[0;32m     32\u001b[0m \u001b[38;5;28;01melif\u001b[39;00m s\u001b[38;5;241m==\u001b[39m\u001b[38;5;124m\"\u001b[39m\u001b[38;5;124m%\u001b[39m\u001b[38;5;124m\"\u001b[39m:\n\u001b[0;32m     33\u001b[0m     \u001b[38;5;28mprint\u001b[39m(n1,\u001b[38;5;124m\"\u001b[39m\u001b[38;5;124m%\u001b[39m\u001b[38;5;124m\"\u001b[39m,n2,\u001b[38;5;124m\"\u001b[39m\u001b[38;5;124m=\u001b[39m\u001b[38;5;124m\"\u001b[39m,mod(n1,n2))\n",
      "Cell \u001b[1;32mIn[9], line 14\u001b[0m, in \u001b[0;36mdiv\u001b[1;34m(***failed resolving arguments***)\u001b[0m\n\u001b[0;32m     12\u001b[0m \u001b[38;5;28;01mexcept\u001b[39;00m \u001b[38;5;167;01mException\u001b[39;00m \u001b[38;5;28;01mas\u001b[39;00m n2:\n\u001b[0;32m     13\u001b[0m     \u001b[38;5;28mprint\u001b[39m(n2)\n\u001b[1;32m---> 14\u001b[0m \u001b[38;5;28;01mreturn\u001b[39;00m n1\u001b[38;5;241m/\u001b[39mn2\n",
      "\u001b[1;31mUnboundLocalError\u001b[0m: cannot access local variable 'n2' where it is not associated with a value"
     ]
    }
   ],
   "source": [
    "def add(n1,n2):\n",
    "    return n1+n2\n",
    "def sub(n1,n2):\n",
    "    return n1-n2\n",
    "def mul(n1,n2):\n",
    "    return n1*n2\n",
    "def div(n1,n2):\n",
    "    try:\n",
    "        n1=1\n",
    "        n2=0\n",
    "        print(n1/n2)\n",
    "    except Exception as n2:\n",
    "        print(n2)\n",
    "    return n1/n2\n",
    "def mod(n1,n2):\n",
    "    return n1%n2\n",
    "          \n",
    "n1=int(input(\"Enter the First number:\"))\n",
    "n2=int(input(\"Enter the Second number:\"))\n",
    "print(\"Our Operations:\\n\"\n",
    "      \"+\",    \"-\",    \"*\",    \"/\",    \"%\")\n",
    "s=input(\"Select Operation:\")\n",
    "      \n",
    "if s==\"+\":\n",
    "    print(n1,\"+\",n2,\"=\",add(n1,n2))\n",
    "elif s==\"-\":\n",
    "    print(n1,\"-\",n2,\"=\",sub(n1,n2))\n",
    "elif s==\"*\":\n",
    "    print(n1,\"*\",n2,\"=\",mul(n1,n2))\n",
    "elif s==\"/\":\n",
    "    print(n1,\"/\",n2,\"=\",div(n1,n2))\n",
    "elif s==\"%\":\n",
    "    print(n1,\"%\",n2,\"=\",mod(n1,n2))\n",
    "else:\n",
    "    print(\"Invalid Input\")"
   ]
  },
  {
   "cell_type": "code",
   "execution_count": null,
   "id": "7b03e304-dcdf-46bd-a871-f94e238cfa6b",
   "metadata": {},
   "outputs": [],
   "source": []
  }
 ],
 "metadata": {
  "kernelspec": {
   "display_name": "Python [conda env:base] *",
   "language": "python",
   "name": "conda-base-py"
  },
  "language_info": {
   "codemirror_mode": {
    "name": "ipython",
    "version": 3
   },
   "file_extension": ".py",
   "mimetype": "text/x-python",
   "name": "python",
   "nbconvert_exporter": "python",
   "pygments_lexer": "ipython3",
   "version": "3.12.7"
  }
 },
 "nbformat": 4,
 "nbformat_minor": 5
}
