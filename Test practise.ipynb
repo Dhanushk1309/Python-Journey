{
 "cells": [
  {
   "cell_type": "code",
   "execution_count": 1,
   "id": "56984f1b-ed3a-4845-ae77-42e2fd4da49f",
   "metadata": {},
   "outputs": [
    {
     "ename": "SyntaxError",
     "evalue": "invalid syntax (2348925760.py, line 4)",
     "output_type": "error",
     "traceback": [
      "\u001b[1;36m  Cell \u001b[1;32mIn[1], line 4\u001b[1;36m\u001b[0m\n\u001b[1;33m    elif(Mark>=80):\u001b[0m\n\u001b[1;37m    ^\u001b[0m\n\u001b[1;31mSyntaxError\u001b[0m\u001b[1;31m:\u001b[0m invalid syntax\n"
     ]
    }
   ],
   "source": [
    "Mark=int(input(\"Enter your Mark\"))\n",
    "if(Mark>= 90):\n",
    "    print(\"Your Grade is A\")\n",
    "    elif(Mark>=80):\n",
    "        print(\"Your Garde is B\")\n",
    "    elif(Mark>=70):\n",
    "        print(\"Your Grade is C\")\n",
    "    elif(Mark< Mark>100):\n",
    "        print(\"invalid\")"
   ]
  },
  {
   "cell_type": "code",
   "execution_count": 5,
   "id": "27c73cea-1f8c-4e72-8cde-f9fa8b702f83",
   "metadata": {},
   "outputs": [
    {
     "name": "stdin",
     "output_type": "stream",
     "text": [
      "ENter a string: bhgf\n"
     ]
    },
    {
     "name": "stdout",
     "output_type": "stream",
     "text": [
      "f\n"
     ]
    }
   ],
   "source": [
    "def reverse_string(text):\n",
    "    reversed_text=\"\"\n",
    "    for i in range(len(text)-1,-1,-1):\n",
    "        reversed_text+=text[i]\n",
    "        return reversed_text\n",
    "input_str=input(\"ENter a string:\")\n",
    "result=reverse_string(input_str)\n",
    "print(result)\n",
    "    \n"
   ]
  },
  {
   "cell_type": "code",
   "execution_count": 3,
   "id": "10cadf45-fb8a-400e-a10b-4fb47df00357",
   "metadata": {},
   "outputs": [
    {
     "name": "stdin",
     "output_type": "stream",
     "text": [
      "enter string dhanush\n"
     ]
    },
    {
     "name": "stdout",
     "output_type": "stream",
     "text": [
      "the dhanush 2\n"
     ]
    }
   ],
   "source": [
    "def count_vowels(text):\n",
    "    vowels=\"aeiouAEIOU\"\n",
    "    count=0\n",
    "    for char in text:\n",
    "        if char in vowels:\n",
    "            count+=1\n",
    "    print(f\"the {text}\",count)\n",
    "user_input=input(\"enter string\")\n",
    "count_vowels(user_input)"
   ]
  },
  {
   "cell_type": "code",
   "execution_count": 7,
   "id": "80715ea2-0ac9-4051-b4b1-6c45d56f272e",
   "metadata": {},
   "outputs": [
    {
     "name": "stdin",
     "output_type": "stream",
     "text": [
      "Enter a string: Dhanush\n"
     ]
    },
    {
     "name": "stdout",
     "output_type": "stream",
     "text": [
      "no of vowels: 2\n"
     ]
    }
   ],
   "source": [
    "def count_vowels(text):\n",
    "    vowels=\"aeiouAEIOU\"\n",
    "    count=0\n",
    "    for char in text:\n",
    "        if char in vowels:\n",
    "            count+=1;\n",
    "    print(f\"no of vowels:\",count)\n",
    "user_input=input(\"Enter a string:\")\n",
    "count_vowels(user_input)  "
   ]
  },
  {
   "cell_type": "code",
   "execution_count": 17,
   "id": "6346f104-293b-424f-b5de-70acc986da50",
   "metadata": {},
   "outputs": [
    {
     "name": "stdin",
     "output_type": "stream",
     "text": [
      "Enter number: 5\n"
     ]
    },
    {
     "name": "stdout",
     "output_type": "stream",
     "text": [
      "Prime\n"
     ]
    }
   ],
   "source": [
    "def is_prime(n):\n",
    "    if(n<=1):\n",
    "        return False\n",
    "    for i in range(2,n):\n",
    "        if(n%i==0):\n",
    "            return False\n",
    "        else:\n",
    "            return True\n",
    "num=int(input(\"Enter number:\"))\n",
    "if is_prime(num):\n",
    "    print(\"Prime\")\n",
    "else :\n",
    "    print(\"Not prime\")"
   ]
  },
  {
   "cell_type": "code",
   "execution_count": 7,
   "id": "72c7a019-70d6-45b6-97a1-cdf3b8132440",
   "metadata": {},
   "outputs": [
    {
     "name": "stdin",
     "output_type": "stream",
     "text": [
      "Enter num 12\n"
     ]
    },
    {
     "name": "stdout",
     "output_type": "stream",
     "text": [
      "1\n"
     ]
    }
   ],
   "source": [
    "def find_factorial(n):\n",
    "    factorial=1\n",
    "    for i in range(1,n+1):\n",
    "        factorial*=i\n",
    "        return factorial\n",
    "num=int(input(\"Enter num\"))\n",
    "print(find_factorial(num))"
   ]
  },
  {
   "cell_type": "code",
   "execution_count": 5,
   "id": "68af8df2-00a3-4110-89d5-3db65f6144d8",
   "metadata": {},
   "outputs": [],
   "source": [
    "def are_anagrams(str1,str2):\n",
    "    str1=str1.replace(\" \",\" \").lower()\n",
    "    str2=str2.replace(\" \",\" \").lower()\n",
    "    return sorted(str1)==sorted(str2)"
   ]
  },
  {
   "cell_type": "code",
   "execution_count": 3,
   "id": "bdc27988-dcbc-49b9-b2c7-a46ca3030147",
   "metadata": {},
   "outputs": [],
   "source": [
    "def are_anagrams(str1,str2):\n",
    "    str1=str1.replace(\" \",\" \").lower()\n",
    "    str2=str2.replace(\" \",\" \").lower()\n",
    "    return sorted(str1)==sorted(str2)\n"
   ]
  },
  {
   "cell_type": "code",
   "execution_count": 5,
   "id": "2a583349-87d7-4cf2-ac3e-d20fb8b1d203",
   "metadata": {},
   "outputs": [
    {
     "name": "stdout",
     "output_type": "stream",
     "text": [
      "nohtyp\n"
     ]
    }
   ],
   "source": [
    "p=\"python\"\n",
    "rev=p[::-1]\n",
    "print(rev)"
   ]
  },
  {
   "cell_type": "code",
   "execution_count": 9,
   "id": "ccf811da-dede-4e45-81fa-1707debddbc9",
   "metadata": {},
   "outputs": [
    {
     "name": "stdout",
     "output_type": "stream",
     "text": [
      "nohtyP\n"
     ]
    }
   ],
   "source": [
    "d=\"Python\"\n",
    "rev=\"\"\n",
    "for char in d:\n",
    "    rev=char+rev\n",
    "print(rev)\n",
    "    "
   ]
  },
  {
   "cell_type": "code",
   "execution_count": 24,
   "id": "f824c0a3-6044-4568-b5d6-f3cd91380c6f",
   "metadata": {},
   "outputs": [],
   "source": [
    "n=1\n",
    "if(n<=0):\n",
    "    print(\"Not Prime\")\n",
    "else:\n",
    "    for i in range(2,n):\n",
    "        if(n%i!=0):\n",
    "            print(\" Prime\")\n",
    "            break\n",
    "        else:\n",
    "            print(\"Not Prime\")\n",
    "    "
   ]
  },
  {
   "cell_type": "code",
   "execution_count": 20,
   "id": "e372cb84-261b-4123-84c4-91ee0cceb98e",
   "metadata": {},
   "outputs": [
    {
     "name": "stdout",
     "output_type": "stream",
     "text": [
      " Prime\n",
      " Prime\n",
      " Prime\n",
      " Prime\n",
      " Prime\n",
      " Prime\n",
      " Prime\n",
      " Prime\n",
      " Prime\n",
      " Prime\n",
      " Prime\n"
     ]
    }
   ],
   "source": [
    "n=13\n",
    "if(n<=0):\n",
    "    print(\"Not Prime\")\n",
    "else:\n",
    "    for i in range(2,n):\n",
    "        if(n%i!=0):\n",
    "            print(\" Prime\")\n",
    "        else:\n",
    "            print(\"Not Prime\")\n",
    "    "
   ]
  },
  {
   "cell_type": "code",
   "execution_count": 11,
   "id": "cc9d37cf-6896-40de-95fe-125cf7a714f7",
   "metadata": {},
   "outputs": [
    {
     "name": "stdout",
     "output_type": "stream",
     "text": [
      "Prime\n"
     ]
    }
   ],
   "source": [
    "#Prime number\n",
    "num=13\n",
    "flag=False\n",
    "if(n<=0):\n",
    "    print(\"not prime\")\n",
    "elif(num>1):\n",
    "    for i in range(2,num):\n",
    "        if(num%i==0):\n",
    "            flag=True\n",
    "            break\n",
    "if flag:\n",
    "    print(\"Not prime\")\n",
    "else:\n",
    "    print(\"Prime\")\n",
    "        \n",
    "        \n",
    "        "
   ]
  },
  {
   "cell_type": "code",
   "execution_count": 35,
   "id": "7317f4f5-8ebc-4b00-93ce-46d7d3f6f36b",
   "metadata": {},
   "outputs": [
    {
     "name": "stdout",
     "output_type": "stream",
     "text": [
      "0\n",
      "1\n",
      "1\n",
      "1\n",
      "1\n",
      "1\n",
      "1\n",
      "1\n",
      "1\n",
      "1\n",
      "1\n"
     ]
    }
   ],
   "source": [
    "s=(\"Hello World\")\n",
    "vowels={\"a\",\"e\",\"i\",\"o\",\"u\",\"A\",\"E\",\"I\",\"O\",\"U\"}\n",
    "count=0\n",
    "for ch in s:\n",
    "    if(ch in vowels):\n",
    "        count=+1\n",
    "    print(count)"
   ]
  },
  {
   "cell_type": "code",
   "execution_count": 5,
   "id": "9582c297-772a-47e9-a820-8aa208442450",
   "metadata": {},
   "outputs": [
    {
     "name": "stdout",
     "output_type": "stream",
     "text": [
      "3\n"
     ]
    }
   ],
   "source": [
    "s=(\"Hello World\")\n",
    "vowels=('a','e','i','o','u','A','E','I','O','U')\n",
    "sum=0\n",
    "for ch in s :\n",
    "    if ch in vowels:\n",
    "        sum=sum+1\n",
    "print(sum)"
   ]
  },
  {
   "cell_type": "code",
   "execution_count": 41,
   "id": "93714a63-57ae-4189-a7e7-0a3dd39b36c7",
   "metadata": {},
   "outputs": [
    {
     "name": "stdout",
     "output_type": "stream",
     "text": [
      "[1, 23, 4, 5, 6]\n"
     ]
    }
   ],
   "source": [
    "#REMOVE DUPLICATES\n",
    "a=[1,23,1,4,4,5,23,6]\n",
    "res=[]\n",
    "for i in a:\n",
    "    if i not in res:\n",
    "        res.append(i)\n",
    "print(res)"
   ]
  },
  {
   "cell_type": "code",
   "execution_count": 45,
   "id": "9f46381c-82dd-46ac-a53f-b9bbce7f4025",
   "metadata": {},
   "outputs": [
    {
     "name": "stdout",
     "output_type": "stream",
     "text": [
      "720\n"
     ]
    }
   ],
   "source": [
    "#Factorial of a number\n",
    "n=6\n",
    "fact=1\n",
    "for i in range(1,n+1):\n",
    "    fact*=i\n",
    "print(fact)\n"
   ]
  },
  {
   "cell_type": "code",
   "execution_count": 3,
   "id": "8cfee966-a4d7-46d9-ada3-53ecfd732d30",
   "metadata": {},
   "outputs": [
    {
     "name": "stdout",
     "output_type": "stream",
     "text": [
      "s\n"
     ]
    }
   ],
   "source": [
    "s=\"malayaam\"\n",
    "if(s[::-1]):\n",
    "    print(\"s\")\n",
    "else:\n",
    "    print(\"no\")\n"
   ]
  },
  {
   "cell_type": "code",
   "execution_count": 51,
   "id": "1ae7da50-88ec-4ff7-a237-57ea008acbcf",
   "metadata": {},
   "outputs": [
    {
     "name": "stdout",
     "output_type": "stream",
     "text": [
      "odd\n"
     ]
    }
   ],
   "source": [
    "n=17\n",
    "if(num%2==0):\n",
    "    print(\"even\")\n",
    "else:\n",
    "    print(\"odd\")"
   ]
  },
  {
   "cell_type": "code",
   "execution_count": 53,
   "id": "e752766e-2f76-4981-a485-1fbf88f5c86b",
   "metadata": {},
   "outputs": [
    {
     "name": "stdout",
     "output_type": "stream",
     "text": [
      "[1, 2, 3, 4, 5]\n"
     ]
    }
   ],
   "source": [
    "l=[1,2,2,3,4,4,5]\n",
    "res=[]\n",
    "for i in l:\n",
    "    if i not in res:\n",
    "        res.append(i)\n",
    "print(res)\n",
    "    "
   ]
  },
  {
   "cell_type": "code",
   "execution_count": 55,
   "id": "fbf2aeee-b780-4b8d-b97c-54eab0c8ad79",
   "metadata": {},
   "outputs": [
    {
     "name": "stdout",
     "output_type": "stream",
     "text": [
      "3\n"
     ]
    }
   ],
   "source": [
    "t=\"Hello World\"\n",
    "vowels={'a','e','i','o','u','A','E','I','O','U'}\n",
    "c=sum(1 for ch in t if ch in vowels)\n",
    "print(c)\n",
    "        \n"
   ]
  },
  {
   "cell_type": "code",
   "execution_count": 57,
   "id": "fb5ca69a-15cc-4640-946a-8456f3b3f1f7",
   "metadata": {},
   "outputs": [
    {
     "name": "stdout",
     "output_type": "stream",
     "text": [
      "120\n"
     ]
    }
   ],
   "source": [
    "n=5\n",
    "fact=1\n",
    "for i in range(1,n+1):\n",
    "    fact=fact*i\n",
    "print(fact)"
   ]
  },
  {
   "cell_type": "markdown",
   "id": "185e31a3-e378-4acb-8db3-160e672e9699",
   "metadata": {},
   "source": [
    "# s=\"madam\"\n",
    "if (s[::-1]):\n",
    "    print(\"pal\")\n",
    "else:\n",
    "    print(\"not pal\")"
   ]
  },
  {
   "cell_type": "code",
   "execution_count": 85,
   "id": "cc1eeeb2-02ce-41f5-a4b0-f75a358cf3d3",
   "metadata": {},
   "outputs": [
    {
     "name": "stdout",
     "output_type": "stream",
     "text": [
      "no\n"
     ]
    }
   ],
   "source": [
    "s1='listen'\n",
    "s2='silent'\n",
    "if len(s1)!=len(s2):\n",
    "    print(\"no\")\n",
    "else:\n",
    "    if (s1)==(s2):\n",
    "        print(\"s\")\n",
    "    else:\n",
    "        print(\"no\")"
   ]
  },
  {
   "cell_type": "code",
   "execution_count": 89,
   "id": "6a65f721-6731-4ae8-b1aa-18daa761c88b",
   "metadata": {},
   "outputs": [
    {
     "ename": "TypeError",
     "evalue": "'builtin_function_or_method' object is not subscriptable",
     "output_type": "error",
     "traceback": [
      "\u001b[1;31m---------------------------------------------------------------------------\u001b[0m",
      "\u001b[1;31mTypeError\u001b[0m                                 Traceback (most recent call last)",
      "Cell \u001b[1;32mIn[89], line 4\u001b[0m\n\u001b[0;32m      2\u001b[0m \u001b[38;5;28;01mfor\u001b[39;00m i \u001b[38;5;129;01min\u001b[39;00m \u001b[38;5;28mrange\u001b[39m(\u001b[38;5;241m0\u001b[39m,\u001b[38;5;28mlen\u001b[39m(ol)):\n\u001b[0;32m      3\u001b[0m     \u001b[38;5;28;01mfor\u001b[39;00m j \u001b[38;5;129;01min\u001b[39;00m \u001b[38;5;28mrange\u001b[39m(i\u001b[38;5;241m+\u001b[39m\u001b[38;5;241m1\u001b[39m,\u001b[38;5;28mlen\u001b[39m(ol)):\n\u001b[1;32m----> 4\u001b[0m         \u001b[38;5;28;01mif\u001b[39;00m \u001b[38;5;28mlen\u001b[39m[ol]\u001b[38;5;241m>\u001b[39m\u001b[38;5;241m=\u001b[39m\u001b[38;5;28mlen\u001b[39m[ol]:\n\u001b[0;32m      5\u001b[0m             ol[i],ol[j]\u001b[38;5;241m=\u001b[39mol[j],ol[i]\n\u001b[0;32m      6\u001b[0m \u001b[38;5;28mprint\u001b[39m(ol)\n",
      "\u001b[1;31mTypeError\u001b[0m: 'builtin_function_or_method' object is not subscriptable"
     ]
    }
   ],
   "source": [
    "ol=[76, 23, 45, 12, 54, 9]\n",
    "for i in range(0,len(ol)):\n",
    "    for j in range(i+1,len(ol)):\n",
    "        if len[ol]>=len[ol]:\n",
    "            ol[i],ol[j]=ol[j],ol[i]\n",
    "print(ol)\n"
   ]
  },
  {
   "cell_type": "code",
   "execution_count": 91,
   "id": "556564c7-76aa-45dd-8808-f1c0efbbbd88",
   "metadata": {},
   "outputs": [
    {
     "name": "stdout",
     "output_type": "stream",
     "text": [
      "76\n"
     ]
    }
   ],
   "source": [
    "a = [10, 24, 76, 23, 12]\n",
    "largest=a[0]\n",
    "for i in a:\n",
    "    if i>largest:\n",
    "        largest=i\n",
    "print(largest)\n",
    "    "
   ]
  },
  {
   "cell_type": "code",
   "execution_count": null,
   "id": "68c20e05-ee65-410a-902e-dd77911e900a",
   "metadata": {},
   "outputs": [],
   "source": []
  }
 ],
 "metadata": {
  "kernelspec": {
   "display_name": "Python [conda env:base] *",
   "language": "python",
   "name": "conda-base-py"
  },
  "language_info": {
   "codemirror_mode": {
    "name": "ipython",
    "version": 3
   },
   "file_extension": ".py",
   "mimetype": "text/x-python",
   "name": "python",
   "nbconvert_exporter": "python",
   "pygments_lexer": "ipython3",
   "version": "3.12.7"
  }
 },
 "nbformat": 4,
 "nbformat_minor": 5
}
