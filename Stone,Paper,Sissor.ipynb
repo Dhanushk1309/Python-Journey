{
 "cells": [
  {
   "cell_type": "code",
   "execution_count": 35,
   "id": "6f39f095-6270-4db5-88b6-127393b33531",
   "metadata": {},
   "outputs": [
    {
     "name": "stdin",
     "output_type": "stream",
     "text": [
      "Enter your choice:\n",
      "Stone,Paper,Sisssor: Sissor\n"
     ]
    },
    {
     "name": "stdout",
     "output_type": "stream",
     "text": [
      "********************************\n",
      "your choice: Sissor\n",
      "Computer choice: Stone\n",
      "********************************\n",
      "Computer wins\n"
     ]
    }
   ],
   "source": [
    "import random\n",
    "options=[\"Stone\",\"Paper\",\"Sissor\"]\n",
    "user_choice=input(\"Enter your choice:\\n\"+\"Stone,Paper,Sisssor:\")\n",
    "computer_choice=random.choice(options)\n",
    "print(\"********************************\")\n",
    "print(\"Your choice:\",user_choice)\n",
    "print(\"Computer choice:\",computer_choice)\n",
    "print(\"********************************\")\n",
    "if(user_choice==computer_choice):\n",
    "    print(\"Game is tie\")\n",
    "elif (user_choice==\"Stone\" and computer_choice==\"Sissor\"):\n",
    "    print(\"You win\")\n",
    "elif (user_choice==\"Paper\" and computer_choice==\"Stone\"):\n",
    "    print(\"You win\")\n",
    "elif (user_choice==\"Sissor\" and computer_choice==\"Paper\"):\n",
    "        print(\"You win\")\n",
    "else:\n",
    "    print(\"Computer wins\")\n",
    "\n",
    "        \n",
    "    \n",
    "    \n",
    "    \n"
   ]
  },
  {
   "cell_type": "code",
   "execution_count": null,
   "id": "1d04e4ef-b419-47bd-95ce-c49bb4b1430b",
   "metadata": {},
   "outputs": [],
   "source": []
  }
 ],
 "metadata": {
  "kernelspec": {
   "display_name": "Python [conda env:base] *",
   "language": "python",
   "name": "conda-base-py"
  },
  "language_info": {
   "codemirror_mode": {
    "name": "ipython",
    "version": 3
   },
   "file_extension": ".py",
   "mimetype": "text/x-python",
   "name": "python",
   "nbconvert_exporter": "python",
   "pygments_lexer": "ipython3",
   "version": "3.12.7"
  }
 },
 "nbformat": 4,
 "nbformat_minor": 5
}
